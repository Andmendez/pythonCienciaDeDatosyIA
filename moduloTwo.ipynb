{
 "cells": [
  {
   "cell_type": "markdown",
   "metadata": {},
   "source": [
    "<h1>Tuples and Lists</h1>"
   ]
  },
  {
   "cell_type": "code",
   "execution_count": 22,
   "metadata": {},
   "outputs": [
    {
     "name": "stdout",
     "output_type": "stream",
     "text": [
      "10 or 10\n",
      "disco\n",
      "('disco', 10)\n",
      "Longitud de la tupla ex1: 9\n",
      "[2, 5, 6, 6, 8, 9, 9, 10, 10]\n",
      "('pop', 'rock')\n",
      "rock\n",
      "2\n"
     ]
    }
   ],
   "source": [
    "#Tuples\n",
    "\n",
    "ex1 = (10, 9, 6, 5, 10, 8, 9, 6, 2) #Esto es una tupla\n",
    "#Acceder a lo que esta dentro de la tupla:\n",
    "#      [0, 1, 2, 3, 4,  5, 6, 7, 8]\n",
    "#      [-9,-8,-7,-6,-5,-4,-3,-2,-1]    \n",
    "\n",
    "ex2 = ('disco', 10, 1.2)\n",
    "\n",
    "ex3 = sorted(ex1) #Ordena de mayor a menor la tupla ex1 y la almacena en ex3\n",
    "\n",
    "ex4 = (1, 2, (\"pop\",\"rock\"), (3,4),6,(\"disco\",(1,2)))\n",
    "#     [0, 1, 2[0, 1], 3[0, 1], 4, 5[0, 1[0,1]]]\n",
    "print(ex1[0], \"or\", ex1[-9])\n",
    "print(ex2[0])\n",
    "print(ex2[0:2])\n",
    "\n",
    "print(\"Longitud de la tupla ex1:\",len(ex1)) #Nos imprime la longitud de la tupla\n",
    "\n",
    "print(ex3)\n",
    "\n",
    "print(ex4[2])\n",
    "print(ex4[2][1])\n",
    "print(ex4[5][1][1])\n"
   ]
  },
  {
   "cell_type": "code",
   "execution_count": 41,
   "metadata": {},
   "outputs": [
    {
     "name": "stdout",
     "output_type": "stream",
     "text": [
      "['Michael Jackson', 10.1, 1982]\n",
      "['Michael Jackson', 10.1, 1982, 'rap', 20]\n",
      "Michael Jackson\n",
      "['Michael Jackson', 10.1]\n",
      "['Michael Jackson', 10.1, 1982, 'pop', 10]\n",
      "['Michael Jackson', 1982, [1, 2], ('A', 1), [5, 7]]\n",
      "['This', 'is', 'a', 'list']\n",
      "['A', 'B', 'C', 'D']\n"
     ]
    }
   ],
   "source": [
    "#Listas\n",
    "\n",
    "L = ['Michael Jackson', 10.1, 1982]\n",
    "#Acceder a lo que esta dentro de las listas:\n",
    "#      [0, 1, 2, 3]\n",
    "#      [-4,-3,-2,-1]  \n",
    "print(L)\n",
    "L1 = ['Michael Jackson', 10.1, 1982, [1, 2], ('A', 1)]\n",
    "\n",
    "#Concatenar una lista:\n",
    "\n",
    "L2 = L + [\"pop\", 10]\n",
    "\n",
    "L.extend([\"rap\", 20])\n",
    "\n",
    "\n",
    "print(L)\n",
    "print(L[0])\n",
    "print(L[0:2])\n",
    "print(L2)\n",
    "\n",
    "L1.append([5, 7]) #Adiciona al final de la lista.\n",
    "\n",
    "L1[1] = \"pop\" #Cambia el valor de L1[1].\n",
    "\n",
    "del[L1[1]] #Y aqui lo elimina.\n",
    "\n",
    "L3 = \"This is a list\".split()\n",
    "L4 = \"A,B,C,D\".split(\",\")\n",
    "\n",
    "print(L1)\n",
    "print(L3)\n",
    "print(L4)"
   ]
  },
  {
   "cell_type": "code",
   "execution_count": null,
   "metadata": {},
   "outputs": [],
   "source": []
  }
 ],
 "metadata": {
  "kernelspec": {
   "display_name": "base",
   "language": "python",
   "name": "python3"
  },
  "language_info": {
   "codemirror_mode": {
    "name": "ipython",
    "version": 3
   },
   "file_extension": ".py",
   "mimetype": "text/x-python",
   "name": "python",
   "nbconvert_exporter": "python",
   "pygments_lexer": "ipython3",
   "version": "3.12.4"
  }
 },
 "nbformat": 4,
 "nbformat_minor": 2
}
