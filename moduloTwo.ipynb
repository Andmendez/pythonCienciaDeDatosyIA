{
 "cells": [
  {
   "cell_type": "markdown",
   "metadata": {},
   "source": [
    "<h1>Tuples and Lists</h1>"
   ]
  },
  {
   "cell_type": "code",
   "execution_count": 4,
   "metadata": {},
   "outputs": [
    {
     "name": "stdout",
     "output_type": "stream",
     "text": [
      "<class 'tuple'>\n",
      "10 or 10\n",
      "disco\n",
      "('disco', 10)\n",
      "Longitud de la tupla ex1: 9\n",
      "[2, 5, 6, 6, 8, 9, 9, 10, 10]\n",
      "('pop', 'rock')\n",
      "rock\n",
      "2\n",
      "(10, 9, 6, 5, 10, 8, 9, 6, 2, 'Uno', 0)\n"
     ]
    }
   ],
   "source": [
    "#Tuples\n",
    "\n",
    "ex1 = (10, 9, 6, 5, 10, 8, 9, 6, 2) #Esto es una tupla\n",
    "#Acceder a lo que esta dentro de la tupla:\n",
    "#      [0, 1, 2, 3, 4,  5, 6, 7, 8]\n",
    "#      [-9,-8,-7,-6,-5,-4,-3,-2,-1]    \n",
    "\n",
    "ex2 = ('disco', 10, 1.2)\n",
    "\n",
    "ex3 = sorted(ex1) #Ordena de mayor a menor la tupla ex1 y la almacena en ex3\n",
    "\n",
    "ex4 = (1, 2, (\"pop\",\"rock\"), (3,4),6,(\"disco\",(1,2)))\n",
    "#     [0, 1, 2[0, 1], 3[0, 1], 4, 5[0, 1[0,1]]]\n",
    "print(type(ex1))\n",
    "print(ex1[0], \"or\", ex1[-9])\n",
    "print(ex2[0])\n",
    "print(ex2[0:2])\n",
    "\n",
    "print(\"Longitud de la tupla ex1:\",len(ex1)) #Nos imprime la longitud de la tupla\n",
    "\n",
    "print(ex3)\n",
    "\n",
    "print(ex4[2])\n",
    "print(ex4[2][1])\n",
    "print(ex4[5][1][1])\n",
    "\n",
    "ex5 = ex1 + (\"Uno\", 0)\n",
    "\n",
    "print(ex5)\n"
   ]
  },
  {
   "cell_type": "code",
   "execution_count": 2,
   "metadata": {},
   "outputs": [
    {
     "name": "stdout",
     "output_type": "stream",
     "text": [
      "['Michael Jackson', 10.1, 1982]\n",
      "<class 'list'>\n",
      "['Michael Jackson', 10.1, 1982, 'rap', 20]\n",
      "Michael Jackson\n",
      "['Michael Jackson', 10.1]\n",
      "['Michael Jackson', 10.1, 1982, 'pop', 10]\n",
      "['Michael Jackson', 1982, [1, 2], ('A', 1), [5, 7]]\n",
      "['This', 'is', 'a', 'list']\n",
      "['A', 'B', 'C', 'D']\n"
     ]
    }
   ],
   "source": [
    "#Listas\n",
    "\n",
    "L = ['Michael Jackson', 10.1, 1982]\n",
    "#Acceder a lo que esta dentro de las listas:\n",
    "#      [0, 1, 2, 3]\n",
    "#      [-4,-3,-2,-1]  \n",
    "print(L)\n",
    "L1 = ['Michael Jackson', 10.1, 1982, [1, 2], ('A', 1)]\n",
    "\n",
    "#Concatenar una lista:\n",
    "\n",
    "L2 = L + [\"pop\", 10]\n",
    "\n",
    "L.extend([\"rap\", 20])\n",
    "\n",
    "print(type(L))\n",
    "print(L)\n",
    "print(L[0])\n",
    "print(L[0:2])\n",
    "print(L2)\n",
    "\n",
    "L1.append([5, 7]) #Adiciona al final de la lista.\n",
    "\n",
    "L1[1] = \"pop\" #Cambia el valor de L1[1].\n",
    "\n",
    "del[L1[1]] #Y aqui lo elimina.\n",
    "\n",
    "L3 = \"This is a list\".split()\n",
    "L4 = \"A,B,C,D\".split(\",\")\n",
    "\n",
    "print(L1)\n",
    "print(L3)\n",
    "print(L4)"
   ]
  },
  {
   "cell_type": "markdown",
   "metadata": {},
   "source": [
    "## Listas\n",
    "\n",
    ".append(element) => Adiciona al final de la lista\n",
    "\n",
    ".copy() => Nos permite copiar una lista\n",
    "\n",
    ".count(elemento) => Nos indica cuanta veces se repite elemento en la lista\n",
    "\n",
    "del name_lista[position] => Elimina el elemento en esa posicion de la lsita\n",
    "\n",
    "name_lista.extend(name_lista2) => Extender una lista con otra\n",
    "\n",
    ".insert(index, element) => Adicionar en donde quieras\n",
    "\n",
    ".pop(position) => le quita ese elemento a una lista o se lo da a otra\n",
    "\n",
    ".remove(element) => Quita el primer element == en la lista"
   ]
  },
  {
   "cell_type": "code",
   "execution_count": 23,
   "metadata": {},
   "outputs": [
    {
     "name": "stdout",
     "output_type": "stream",
     "text": [
      "Lista antes de append: [1, 2, 1, 4, 5, 6, 2, 5]\n",
      "Lista despues de append: [1, 2, 1, 4, 5, 6, 2, 5, 3]\n",
      "\n",
      "\n",
      "Lista 2: [1, 2, 1, 4, 5, 6, 2, 5, 3]\n",
      "\n",
      "\n",
      "Cuantos 1 hay en mi lista: 2\n",
      "\n",
      "\n",
      "Lista 2 despues de eliminarle el valor de la posicion 3: [1, 2, 1, 5, 6, 2, 5, 3]\n",
      "\n",
      "\n",
      "Se extendio lista con lista 2: [1, 2, 1, 4, 5, 6, 2, 5, 3, 1, 2, 1, 5, 6, 2, 5, 3]\n",
      "\n",
      "\n",
      "Se inserto un elemento en la posicion 0: ['hola', 1, 2, 1, 5, 6, 2, 5, 3]\n",
      "\n",
      "\n",
      "hola\n",
      "[1, 2, 1, 5, 6, 2, 5, 3]\n",
      "\n",
      "\n",
      "[1, 2, 1, 6, 2, 5, 3]\n",
      "\n",
      "\n"
     ]
    }
   ],
   "source": [
    "lista = [1, 2, 1, 4, 5, 6, 2, 5]\n",
    "print(\"Lista antes de append:\",lista)\n",
    "lista.append(3)\n",
    "print(\"Lista despues de append:\",lista)\n",
    "print(\"\\n\")\n",
    "\n",
    "lista2 = lista.copy()\n",
    "print(\"Lista 2:\",lista2)\n",
    "print(\"\\n\")\n",
    "\n",
    "contador = lista2.count(1)\n",
    "print(\"Cuantos 1 hay en mi lista:\",contador)\n",
    "print(\"\\n\")\n",
    "\n",
    "del lista2[3]\n",
    "print(\"Lista 2 despues de eliminarle el valor de la posicion 3:\", lista2)\n",
    "print(\"\\n\")\n",
    "\n",
    "lista.extend(lista2)\n",
    "print(\"Se extendio lista con lista 2:\",lista)\n",
    "print(\"\\n\")\n",
    "\n",
    "lista2.insert(0, \"hola\")\n",
    "print(\"Se inserto un elemento en la posicion 0:\",lista2)\n",
    "print(\"\\n\")\n",
    "\n",
    "lista3 = lista2.pop(0)\n",
    "print(lista3)\n",
    "print(lista2)\n",
    "print(\"\\n\")\n",
    "\n",
    "lista2.remove(5)\n",
    "print(lista2)\n",
    "print(\"\\n\")"
   ]
  },
  {
   "cell_type": "markdown",
   "metadata": {},
   "source": [
    "# Dictionaries\n",
    "\n",
    "Key and Element/Values es distinto a las listas que son Index and Element."
   ]
  },
  {
   "cell_type": "code",
   "execution_count": 55,
   "metadata": {},
   "outputs": [
    {
     "name": "stdout",
     "output_type": "stream",
     "text": [
      "{'one': 1, 'two': '2', 'three': [3, 3, 3], 'four': (4, 4, 4, 4), 'five': 5}\n",
      "\n",
      "\n",
      "{'one': 1, 'two': '2', 'three': [3, 3, 3], 'four': (4, 4, 4, 4), 'five': 5, 'six': 6}\n",
      "\n",
      "\n",
      "{'one': 1, 'two': '2', 'three': [3, 3, 3], 'four': (4, 4, 4, 4), 'five': 5}\n",
      "\n",
      "\n",
      "La llave one esta el diccionario: True\n",
      "La llave zero esta el diccionario: False\n",
      "\n",
      "\n",
      "dict_keys(['one', 'two', 'three', 'four', 'five'])\n",
      "dict_values([1, '2', [3, 3, 3], (4, 4, 4, 4), 5])\n",
      "\n",
      "\n",
      "['one', 'two', 'three', 'four', 'five']\n"
     ]
    }
   ],
   "source": [
    "example = {\"one\":1, \"two\":\"2\", \"three\":[3,3,3], \"four\":(4,4,4,4), \"five\":5}\n",
    "#\"one\": 1\n",
    "# key : values\n",
    "print(example)\n",
    "\n",
    "print(\"\\n\")\n",
    "#Adiccion un elemento\n",
    "example[\"six\"] = 6\n",
    "print(example)\n",
    "\n",
    "print(\"\\n\")\n",
    "#Eleminar un elemento\n",
    "del(example[\"six\"])\n",
    "print(example)\n",
    "\n",
    "print(\"\\n\")\n",
    "\n",
    "print(\"La llave one esta el diccionario:\", \"one\" in example)\n",
    "print(\"La llave zero esta el diccionario:\", \"zero\" in example)\n",
    "\n",
    "print(\"\\n\")\n",
    "\n",
    "print(example.keys())\n",
    "print(example.values())\n",
    "\n",
    "print(\"\\n\")\n",
    "\n",
    "print(list(example.keys()))\n"
   ]
  },
  {
   "cell_type": "code",
   "execution_count": null,
   "metadata": {},
   "outputs": [],
   "source": []
  }
 ],
 "metadata": {
  "kernelspec": {
   "display_name": "base",
   "language": "python",
   "name": "python3"
  },
  "language_info": {
   "codemirror_mode": {
    "name": "ipython",
    "version": 3
   },
   "file_extension": ".py",
   "mimetype": "text/x-python",
   "name": "python",
   "nbconvert_exporter": "python",
   "pygments_lexer": "ipython3",
   "version": "3.12.4"
  }
 },
 "nbformat": 4,
 "nbformat_minor": 2
}
