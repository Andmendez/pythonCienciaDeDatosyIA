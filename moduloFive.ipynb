{
 "cells": [
  {
   "cell_type": "markdown",
   "metadata": {},
   "source": [
    "<h1>Application Program Interface (API)</h1>"
   ]
  },
  {
   "cell_type": "code",
   "execution_count": 1,
   "metadata": {},
   "outputs": [
    {
     "data": {
      "text/html": [
       "<div>\n",
       "<style scoped>\n",
       "    .dataframe tbody tr th:only-of-type {\n",
       "        vertical-align: middle;\n",
       "    }\n",
       "\n",
       "    .dataframe tbody tr th {\n",
       "        vertical-align: top;\n",
       "    }\n",
       "\n",
       "    .dataframe thead th {\n",
       "        text-align: right;\n",
       "    }\n",
       "</style>\n",
       "<table border=\"1\" class=\"dataframe\">\n",
       "  <thead>\n",
       "    <tr style=\"text-align: right;\">\n",
       "      <th></th>\n",
       "      <th>a</th>\n",
       "      <th>b</th>\n",
       "    </tr>\n",
       "  </thead>\n",
       "  <tbody>\n",
       "    <tr>\n",
       "      <th>0</th>\n",
       "      <td>11</td>\n",
       "      <td>12</td>\n",
       "    </tr>\n",
       "    <tr>\n",
       "      <th>1</th>\n",
       "      <td>21</td>\n",
       "      <td>22</td>\n",
       "    </tr>\n",
       "    <tr>\n",
       "      <th>2</th>\n",
       "      <td>31</td>\n",
       "      <td>32</td>\n",
       "    </tr>\n",
       "  </tbody>\n",
       "</table>\n",
       "</div>"
      ],
      "text/plain": [
       "    a   b\n",
       "0  11  12\n",
       "1  21  22\n",
       "2  31  32"
      ]
     },
     "execution_count": 1,
     "metadata": {},
     "output_type": "execute_result"
    }
   ],
   "source": [
    "import pandas as pd\n",
    "\n",
    "dict_ = {'a':[11,21,31],'b':[12,22,32]}\n",
    "\n",
    "df = pd.DataFrame(dict_)\n",
    "\n",
    "df.head()"
   ]
  },
  {
   "cell_type": "code",
   "execution_count": 12,
   "metadata": {},
   "outputs": [
    {
     "name": "stdout",
     "output_type": "stream",
     "text": [
      "Requirement already satisfied: pycoingecko in c:\\users\\andres mendez\\anaconda3\\lib\\site-packages (3.1.0)\n",
      "Requirement already satisfied: requests in c:\\users\\andres mendez\\anaconda3\\lib\\site-packages (from pycoingecko) (2.32.2)\n",
      "Requirement already satisfied: charset-normalizer<4,>=2 in c:\\users\\andres mendez\\anaconda3\\lib\\site-packages (from requests->pycoingecko) (2.0.4)\n",
      "Requirement already satisfied: idna<4,>=2.5 in c:\\users\\andres mendez\\anaconda3\\lib\\site-packages (from requests->pycoingecko) (3.7)\n",
      "Requirement already satisfied: urllib3<3,>=1.21.1 in c:\\users\\andres mendez\\anaconda3\\lib\\site-packages (from requests->pycoingecko) (2.2.2)\n",
      "Requirement already satisfied: certifi>=2017.4.17 in c:\\users\\andres mendez\\anaconda3\\lib\\site-packages (from requests->pycoingecko) (2024.6.2)\n",
      "       TimeStamp         Price                    Date\n",
      "0  1725718869660  54601.959668 2024-09-07 14:21:09.660\n",
      "1  1725722658763  54641.181787 2024-09-07 15:24:18.763\n",
      "2  1725724856547  54814.818849 2024-09-07 16:00:56.547\n",
      "3  1725728549194  54512.294600 2024-09-07 17:02:29.194\n",
      "4  1725733249380  54149.551852 2024-09-07 18:20:49.380\n",
      "                   Price                                          \n",
      "                     min           max         first          last\n",
      "Date                                                              \n",
      "2024-09-07  53988.871470  54814.818849  54601.959668  53988.871470\n",
      "2024-09-08  53860.120931  54741.167939  54121.472912  54741.167939\n",
      "2024-09-09  54707.495499  57635.442556  54792.407558  57226.926151\n",
      "2024-09-10  56553.321493  57842.505315  56770.178225  57842.505315\n",
      "2024-09-11  55901.740643  57749.317391  57506.037589  57479.548363\n"
     ]
    }
   ],
   "source": [
    "!pip install pycoingecko\n",
    "from pycoingecko import CoinGeckoAPI\n",
    "\n",
    "cg = CoinGeckoAPI()\n",
    "\n",
    "bitcoin_data = cg.get_coin_market_chart_by_id(id='bitcoin', vs_currency='usd', days=30)\n",
    "\n",
    "# print(bitcoin_data)\n",
    "\n",
    "import pandas as pd\n",
    "\n",
    "data = pd.DataFrame(bitcoin_data['prices'], columns=['TimeStamp','Price'])\n",
    "data['Date'] = pd.to_datetime(data['TimeStamp'], unit = 'ms')\n",
    "\n",
    "candlestick_data = data.groupby(data.Date.dt.date).agg({'Price':['min','max','first','last']})\n",
    "\n",
    "print(data.head())\n",
    "\n",
    "print(candlestick_data.head())\n",
    "\n"
   ]
  },
  {
   "cell_type": "code",
   "execution_count": 14,
   "metadata": {},
   "outputs": [
    {
     "name": "stdout",
     "output_type": "stream",
     "text": [
      "Gráfico guardado como 'bitcoin_candlestick_graph.html'\n"
     ]
    }
   ],
   "source": [
    "import plotly.graph_objects as go\n",
    "import plotly.offline as pyo\n",
    "\n",
    "# Crear el gráfico de velas con los datos de ejemplo (asegúrate de tener 'candlestick_data' definido correctamente)\n",
    "fig = go.Figure(data=[go.Candlestick(\n",
    "    x=candlestick_data.index, \n",
    "    open=candlestick_data['Price']['first'], \n",
    "    high=candlestick_data['Price']['max'], \n",
    "    low=candlestick_data['Price']['min'], \n",
    "    close=candlestick_data['Price']['last']\n",
    ")])\n",
    "\n",
    "# Actualizar el diseño del gráfico\n",
    "fig.update_layout(\n",
    "    xaxis_rangeslider_visible=False, \n",
    "    xaxis_title='Date', \n",
    "    yaxis_title='Price (USD $)', \n",
    "    title='Bitcoin Candlestick Chart Over Past 30 Days'\n",
    ")\n",
    "\n",
    "# Guardar el gráfico en un archivo HTML localmente\n",
    "pyo.plot(fig, filename='./bitcoin_candlestick_graph.html', auto_open=False)\n",
    "\n",
    "# Mensaje de confirmación\n",
    "print(\"Gráfico guardado como 'bitcoin_candlestick_graph.html'\")"
   ]
  },
  {
   "cell_type": "code",
   "execution_count": null,
   "metadata": {},
   "outputs": [],
   "source": []
  }
 ],
 "metadata": {
  "kernelspec": {
   "display_name": "base",
   "language": "python",
   "name": "python3"
  },
  "language_info": {
   "codemirror_mode": {
    "name": "ipython",
    "version": 3
   },
   "file_extension": ".py",
   "mimetype": "text/x-python",
   "name": "python",
   "nbconvert_exporter": "python",
   "pygments_lexer": "ipython3",
   "version": "3.12.4"
  }
 },
 "nbformat": 4,
 "nbformat_minor": 2
}
