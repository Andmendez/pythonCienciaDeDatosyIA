{
 "cells": [
  {
   "cell_type": "markdown",
   "metadata": {},
   "source": [
    "<h1>Trabajando con Datos</h1>\n",
    "\n",
    "Primera forma de abrir un documento text\n",
    "\n",
    "<p>file = open(\"file.txt\",\"r\")</p>  \n",
    "\n",
    "r = reading --- w = writing --- a = appending\n",
    "\n",
    "Segunda forma de abrir un documento text\n",
    "\n",
    "with open('file.txt', 'r') as file:\n",
    "    procesos\n",
    "\n",
    "Esta es mas util ya que una vez haga su proceso el file se cierra."
   ]
  },
  {
   "cell_type": "code",
   "execution_count": 30,
   "metadata": {},
   "outputs": [
    {
     "name": "stdout",
     "output_type": "stream",
     "text": [
      "Aqui hay datos.\n",
      "\n"
     ]
    }
   ],
   "source": [
    "file1 = open(\"ejemploDatos/dato.txt\", \"r\")\n",
    "\n",
    "# file1.name -> Ubicacion del file\n",
    "# file1.mode -> El file esta en modo read\n",
    "# file1.close()\n",
    "# file1.read() -> Leer el archivo\n",
    "\n",
    "\n",
    "# with open(\"ejemplo.txt\",\"r\") as file1:\n",
    "#     file_stuff = file1.read()\n",
    "#     print(file_stuff)\n",
    "\n",
    "# print(file1.closed)\n",
    "# print(file_stuff)\n",
    "\n",
    "example = file1.readline()\n",
    "print(example)\n",
    "file1.close()\n"
   ]
  },
  {
   "cell_type": "code",
   "execution_count": 26,
   "metadata": {},
   "outputs": [
    {
     "name": "stdout",
     "output_type": "stream",
     "text": [
      "Aqui hay datos.\n",
      "\n",
      "Mas datos\n",
      "\n",
      "Muchos mas datos\n"
     ]
    }
   ],
   "source": [
    "file1 = open(\"ejemploDatos/dato.txt\", \"r\")\n",
    "\n",
    "for line in file1:\n",
    "    print(line)\n",
    "\n",
    "file1.close()"
   ]
  },
  {
   "cell_type": "code",
   "execution_count": 47,
   "metadata": {},
   "outputs": [
    {
     "name": "stdout",
     "output_type": "stream",
     "text": [
      "Aqui hay datos.\n",
      "Mas datos\n",
      "Muchos mas datos\n"
     ]
    }
   ],
   "source": [
    "with open(\"ejemploDatos/dato.txt\", \"r\") as file1:\n",
    "    file_stuff = file1.read() #Lee todo el documento\n",
    "\n",
    "\n",
    "    print(file_stuff)\n",
    "  "
   ]
  },
  {
   "cell_type": "code",
   "execution_count": 53,
   "metadata": {},
   "outputs": [
    {
     "name": "stdout",
     "output_type": "stream",
     "text": [
      "Aqui ha\n"
     ]
    }
   ],
   "source": [
    "with open(\"ejemploDatos/dato.txt\", \"r\") as file1:\n",
    "    \n",
    "    print(file1.read(7))"
   ]
  },
  {
   "cell_type": "code",
   "execution_count": 61,
   "metadata": {},
   "outputs": [
    {
     "name": "stdout",
     "output_type": "stream",
     "text": [
      "M\n"
     ]
    }
   ],
   "source": [
    "with open(\"ejemploDatos/dato.txt\", \"r\") as file1:\n",
    "    file_stuff = file1.read() #Lee todo el documento\n",
    "\n",
    "\n",
    "    print(file_stuff[16])\n"
   ]
  },
  {
   "cell_type": "code",
   "execution_count": 39,
   "metadata": {},
   "outputs": [
    {
     "name": "stdout",
     "output_type": "stream",
     "text": [
      "Aqui hay datos.\n",
      "\n",
      "Mas datos\n",
      "\n",
      "Muchos mas datos\n",
      "\n",
      "Hay datos\n"
     ]
    }
   ],
   "source": [
    "with open(\"ejemploDatos/dato.txt\", \"r\") as file1:\n",
    "    line1 = file1.readline()\n",
    "    line2 = file1.readline()\n",
    "    line3 = file1.readline()\n",
    "    print(line1)\n",
    "    print(line2)\n",
    "    print(line3)\n",
    "\n",
    "    if \"datos\" in line2:\n",
    "        print(\"\\nHay datos\")"
   ]
  },
  {
   "cell_type": "code",
   "execution_count": 40,
   "metadata": {},
   "outputs": [
    {
     "name": "stdout",
     "output_type": "stream",
     "text": [
      "Aqui hay datos.\n",
      "\n",
      "Mas datos\n",
      "\n",
      "Muchos mas datos\n"
     ]
    }
   ],
   "source": [
    "with open(\"ejemploDatos/dato.txt\", \"r\") as file1:\n",
    "\n",
    "    while True:\n",
    "        line = file1.readline()\n",
    "        if not line:\n",
    "            break  # Stop when there are no more lines to read\n",
    "        print(line)"
   ]
  },
  {
   "cell_type": "code",
   "execution_count": null,
   "metadata": {},
   "outputs": [],
   "source": []
  }
 ],
 "metadata": {
  "kernelspec": {
   "display_name": "base",
   "language": "python",
   "name": "python3"
  },
  "language_info": {
   "codemirror_mode": {
    "name": "ipython",
    "version": 3
   },
   "file_extension": ".py",
   "mimetype": "text/x-python",
   "name": "python",
   "nbconvert_exporter": "python",
   "pygments_lexer": "ipython3",
   "version": "3.12.4"
  }
 },
 "nbformat": 4,
 "nbformat_minor": 2
}
