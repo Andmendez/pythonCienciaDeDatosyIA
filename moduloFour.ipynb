{
 "cells": [
  {
   "cell_type": "markdown",
   "metadata": {},
   "source": [
    "<h1>Trabajando con Datos</h1>\n",
    "\n",
    "Primera forma de abrir un documento text\n",
    "\n",
    "<p>file = open(\"file.txt\",\"r\")</p>  \n",
    "\n",
    "r = reading --- w = writing --- a = appending -- x = new document\n",
    "\n",
    "Segunda forma de abrir un documento text\n",
    "\n",
    "with open('file.txt', 'r') as file:\n",
    "    procesos\n",
    "\n",
    "Esta es mas util ya que una vez haga su proceso el file se cierra."
   ]
  },
  {
   "cell_type": "code",
   "execution_count": 30,
   "metadata": {},
   "outputs": [
    {
     "name": "stdout",
     "output_type": "stream",
     "text": [
      "Aqui hay datos.\n",
      "\n"
     ]
    }
   ],
   "source": [
    "file1 = open(\"ejemploDatos/dato.txt\", \"r\")\n",
    "\n",
    "# file1.name -> Ubicacion del file\n",
    "# file1.mode -> El file esta en modo read\n",
    "# file1.close()\n",
    "# file1.read() -> Leer el archivo\n",
    "\n",
    "\n",
    "# with open(\"ejemplo.txt\",\"r\") as file1:\n",
    "#     file_stuff = file1.read()\n",
    "#     print(file_stuff)\n",
    "\n",
    "# print(file1.closed)\n",
    "# print(file_stuff)\n",
    "\n",
    "example = file1.readline()\n",
    "print(example)\n",
    "file1.close()\n"
   ]
  },
  {
   "cell_type": "code",
   "execution_count": 26,
   "metadata": {},
   "outputs": [
    {
     "name": "stdout",
     "output_type": "stream",
     "text": [
      "Aqui hay datos.\n",
      "\n",
      "Mas datos\n",
      "\n",
      "Muchos mas datos\n"
     ]
    }
   ],
   "source": [
    "file1 = open(\"ejemploDatos/dato.txt\", \"r\")\n",
    "\n",
    "for line in file1:\n",
    "    print(line)\n",
    "\n",
    "file1.close()"
   ]
  },
  {
   "cell_type": "code",
   "execution_count": 47,
   "metadata": {},
   "outputs": [
    {
     "name": "stdout",
     "output_type": "stream",
     "text": [
      "Aqui hay datos.\n",
      "Mas datos\n",
      "Muchos mas datos\n"
     ]
    }
   ],
   "source": [
    "with open(\"ejemploDatos/dato.txt\", \"r\") as file1:\n",
    "    file_stuff = file1.read() #Lee todo el documento\n",
    "\n",
    "\n",
    "    print(file_stuff)\n",
    "  "
   ]
  },
  {
   "cell_type": "code",
   "execution_count": 53,
   "metadata": {},
   "outputs": [
    {
     "name": "stdout",
     "output_type": "stream",
     "text": [
      "Aqui ha\n"
     ]
    }
   ],
   "source": [
    "with open(\"ejemploDatos/dato.txt\", \"r\") as file1:\n",
    "    \n",
    "    print(file1.read(7))"
   ]
  },
  {
   "cell_type": "code",
   "execution_count": 61,
   "metadata": {},
   "outputs": [
    {
     "name": "stdout",
     "output_type": "stream",
     "text": [
      "M\n"
     ]
    }
   ],
   "source": [
    "with open(\"ejemploDatos/dato.txt\", \"r\") as file1:\n",
    "    file_stuff = file1.read() #Lee todo el documento\n",
    "\n",
    "\n",
    "    print(file_stuff[16])\n"
   ]
  },
  {
   "cell_type": "code",
   "execution_count": 39,
   "metadata": {},
   "outputs": [
    {
     "name": "stdout",
     "output_type": "stream",
     "text": [
      "Aqui hay datos.\n",
      "\n",
      "Mas datos\n",
      "\n",
      "Muchos mas datos\n",
      "\n",
      "Hay datos\n"
     ]
    }
   ],
   "source": [
    "with open(\"ejemploDatos/dato.txt\", \"r\") as file1:\n",
    "    line1 = file1.readline()\n",
    "    line2 = file1.readline()\n",
    "    line3 = file1.readline()\n",
    "    print(line1)\n",
    "    print(line2)\n",
    "    print(line3)\n",
    "\n",
    "    if \"datos\" in line2:\n",
    "        print(\"\\nHay datos\")"
   ]
  },
  {
   "cell_type": "code",
   "execution_count": 40,
   "metadata": {},
   "outputs": [
    {
     "name": "stdout",
     "output_type": "stream",
     "text": [
      "Aqui hay datos.\n",
      "\n",
      "Mas datos\n",
      "\n",
      "Muchos mas datos\n"
     ]
    }
   ],
   "source": [
    "with open(\"ejemploDatos/dato.txt\", \"r\") as file1:\n",
    "\n",
    "    while True:\n",
    "        line = file1.readline()\n",
    "        if not line:\n",
    "            break  # Stop when there are no more lines to read\n",
    "        print(line)"
   ]
  },
  {
   "cell_type": "markdown",
   "metadata": {},
   "source": [
    "<h3>Escritura de datos</h3>"
   ]
  },
  {
   "cell_type": "code",
   "execution_count": 4,
   "metadata": {},
   "outputs": [],
   "source": [
    "with open(\"ejemploDatos/ejemplo.txt\", \"w\") as file1:\n",
    "\n",
    "    file1.write(\"Escribe datos en el txt\\n\")\n",
    "    file1.write(\"Otra linea escrita\\n\")\n",
    "    # file1.write(\"Hola\") Sin el \\n el texto se escribe seguido.\n",
    "#Se borraron los datos que habian en el txt y se escribio este."
   ]
  },
  {
   "cell_type": "code",
   "execution_count": 8,
   "metadata": {},
   "outputs": [],
   "source": [
    "lineas = [\"Uno\\n\", \"Dos\\n\", \"3\\n\", \"Cuatro\\n\"] #No deja escribir si el dato es int.\n",
    "\n",
    "with open(\"ejemploDatos/ejemplo.txt\", \"w\") as file1:\n",
    "\n",
    "    for line in lineas:\n",
    "        file1.write(line)"
   ]
  },
  {
   "cell_type": "code",
   "execution_count": 15,
   "metadata": {},
   "outputs": [],
   "source": [
    "with open(\"ejemploDatos/ejemplo.txt\", \"a\") as file1: # Con la a adicionamos texto evitando borrar lo escrito en el\n",
    "\n",
    "    file1.write(\"Cinco\\n\")"
   ]
  },
  {
   "cell_type": "code",
   "execution_count": 16,
   "metadata": {},
   "outputs": [],
   "source": [
    "with open(\"ejemploDatos/ejemplo.txt\", \"r\") as readfile:\n",
    "    with open(\"ejemploDatos/copia.txt\", \"w\") as writefile:\n",
    "        for line in readfile:\n",
    "            writefile.write(line)"
   ]
  },
  {
   "cell_type": "code",
   "execution_count": 18,
   "metadata": {},
   "outputs": [
    {
     "name": "stdout",
     "output_type": "stream",
     "text": [
      "r\n"
     ]
    }
   ],
   "source": [
    "with open(\"ejemploDatos/dato.txt\", \"r\") as file1:\n",
    "    print(file1.mode)"
   ]
  },
  {
   "cell_type": "markdown",
   "metadata": {},
   "source": [
    "<h1> Pandas </h1>\n",
    "\n",
    "\n",
    "<p>read_csv()</p>\n",
    "<p>Series()</p>\n",
    "<p>DataFrame</p>\n",
    "<p>Values</p>"
   ]
  },
  {
   "cell_type": "code",
   "execution_count": 50,
   "metadata": {},
   "outputs": [
    {
     "name": "stdout",
     "output_type": "stream",
     "text": [
      "         Date\n",
      "0  2024-09-20\n",
      "1  2024-09-21\n",
      "2  2024-09-22\n",
      "3  2024-09-23\n",
      "4  2024-09-24\n",
      "   Humidity (%) Sensor ID\n",
      "0            60  AM2302_1\n",
      "1            58  AM2302_2\n",
      "2            65  AM2302_1\n",
      "3            63  AM2302_3\n",
      "4            59  AM2302_2\n",
      "\n",
      "\n",
      "2024-09-20\n",
      "\n",
      "\n",
      "2024-09-21\n",
      "\n",
      "\n",
      "58\n",
      "\n",
      "\n",
      "['2024-09-20' '2024-09-21' '2024-09-22' '2024-09-23' '2024-09-24']\n",
      "\n",
      "\n",
      "         Date  Temperature (°C)  Humidity (%) Sensor ID\n",
      "2  2024-09-22              24.8            65  AM2302_1\n",
      "3  2024-09-23              27.5            63  AM2302_3\n"
     ]
    }
   ],
   "source": [
    "# Importo la libreria de pandas\n",
    "import pandas as pd\n",
    "\n",
    "# Le doy la ruta donde se encuentra mi csv\n",
    "csv_path = \"pandas/sensor_data.csv\"\n",
    "\n",
    "# Almaceno la lectura de este en la variable df\n",
    "df = pd.read_csv(csv_path)\n",
    "\n",
    "\n",
    "# Utilizo funciones que nos da pandas\n",
    "x = df[['Date']]\n",
    "\n",
    "y = df[['Humidity (%)', 'Sensor ID']]\n",
    "\n",
    "z = df['Date'].unique()\n",
    "\n",
    "x1 = df['Humidity (%)'] > 60 #Con este me da cuales son los True o False\n",
    "\n",
    "\n",
    "# df.head()\n",
    "\n",
    "print(x)\n",
    "print(y)\n",
    "print(\"\\n\")\n",
    "print(df.iloc[0,0])\n",
    "print(\"\\n\")\n",
    "print(df.iloc[1,0])\n",
    "print(\"\\n\")\n",
    "print(df.iloc[1,2])\n",
    "print(\"\\n\")\n",
    "print(z)\n",
    "# print(x1)\n",
    "\n",
    "df1 = df[df['Humidity (%)'] > 60] #Con este me da los datos general que cumple\n",
    "df1.to_csv('pandas/highHumity.csv') # Y aqui la creo otra csv con esos datos.\n",
    "print(\"\\n\")\n",
    "print(df1)"
   ]
  },
  {
   "cell_type": "markdown",
   "metadata": {},
   "source": [
    "### Series Attributes and Methods\n",
    "\n",
    "values: Returns the Series data as a NumPy array.\n",
    "\n",
    "index: Returns the index (labels) of the Series.\n",
    "\n",
    "shape: Returns a tuple representing the dimensions of the Series.\n",
    "\n",
    "size: Returns the number of elements in the Series.\n",
    "\n",
    "mean(), sum(), min(), max(): Calculate summary statistics of the data.\n",
    "\n",
    "unique(), nunique(): Get unique values or the number of unique values.\n",
    "\n",
    "sort_values(), sort_index(): Sort the Series by values or index labels.\n",
    "\n",
    "isnull(), notnull(): Check for missing (NaN) or non-missing values.\n",
    "\n",
    "apply(): Apply a custom function to each element of the Series.\n"
   ]
  },
  {
   "cell_type": "code",
   "execution_count": 54,
   "metadata": {},
   "outputs": [
    {
     "name": "stdout",
     "output_type": "stream",
     "text": [
      "0    10\n",
      "1    20\n",
      "2    30\n",
      "3    40\n",
      "4    50\n",
      "dtype: int64\n",
      "30\n",
      "40\n",
      "1    20\n",
      "2    30\n",
      "3    40\n",
      "dtype: int64\n"
     ]
    }
   ],
   "source": [
    "import pandas as pd\n",
    "\n",
    "# Creamos una lista con una serie de numeros\n",
    "data = [10, 20, 30, 40, 50]\n",
    "\n",
    "# En la variable s almacenamos los datos que ya se organizan del 0 al 4\n",
    "s = pd.Series(data)\n",
    "\n",
    "print(s)\n",
    "\n",
    "print(s[2])\n",
    "\n",
    "print(s.iloc[3])\n",
    "\n",
    "print(s[1:4])"
   ]
  },
  {
   "cell_type": "code",
   "execution_count": 66,
   "metadata": {},
   "outputs": [
    {
     "name": "stdout",
     "output_type": "stream",
     "text": [
      "      Name  Age           City\n",
      "0    Alice   25       New York\n",
      "1      Bob   30  San Francisco\n",
      "2  Charlie   35    Los Angeles\n",
      "3    David   28        Chicago\n",
      "[25 30 35 28]\n",
      "Alice\n"
     ]
    }
   ],
   "source": [
    "import pandas as pd\n",
    "\n",
    "# Creating a DataFrame from a dictionary\n",
    "data = {'Name': ['Alice', 'Bob', 'Charlie', 'David'],\n",
    "        'Age': [25, 30, 35, 28],\n",
    "        'City': ['New York', 'San Francisco', 'Los Angeles', 'Chicago']}\n",
    "\n",
    "df = pd.DataFrame(data)\n",
    "\n",
    "\n",
    "print(df)\n",
    "\n",
    "# print(df['Name'])  # Access the 'Name' column\n",
    "# print(df.iloc[2])   # Access the third row by position\n",
    "# print(df.loc[1])    # Access the second row by label\n",
    "# print(df[['Name', 'Age']])  # Select specific columns\n",
    "# print(df[1:3])             # Select specific rows\n",
    "\n",
    "\n",
    "unique_dates = df['Age'].unique()\n",
    "\n",
    "\n",
    "high_above_102 = df[df['Age'] > 25]\n",
    "\n",
    "print(unique_dates)\n",
    "\n",
    "print(df.iloc[0,0])\n",
    "\n",
    "# df.to_csv('pandas/trading_data.csv', index=False)"
   ]
  },
  {
   "cell_type": "markdown",
   "metadata": {},
   "source": [
    "<h1>Numpy</h1>"
   ]
  },
  {
   "cell_type": "code",
   "execution_count": null,
   "metadata": {},
   "outputs": [],
   "source": []
  }
 ],
 "metadata": {
  "kernelspec": {
   "display_name": "base",
   "language": "python",
   "name": "python3"
  },
  "language_info": {
   "codemirror_mode": {
    "name": "ipython",
    "version": 3
   },
   "file_extension": ".py",
   "mimetype": "text/x-python",
   "name": "python",
   "nbconvert_exporter": "python",
   "pygments_lexer": "ipython3",
   "version": "3.12.4"
  }
 },
 "nbformat": 4,
 "nbformat_minor": 2
}
