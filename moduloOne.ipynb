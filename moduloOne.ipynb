{
 "cells": [
  {
   "cell_type": "code",
   "execution_count": 9,
   "metadata": {},
   "outputs": [
    {
     "name": "stdout",
     "output_type": "stream",
     "text": [
      "Hello World\n"
     ]
    }
   ],
   "source": [
    "print(\"Hello World\")\n",
    "# Check the Python Version\n",
    "import sys\n",
    "print(sys.version)\n"
   ]
  },
  {
   "cell_type": "markdown",
   "metadata": {},
   "source": [
    "<h2 class=\"color\">Tipos de datos</h2>\n",
    "\n",
    "<p>--> int | 11</p>\n",
    "<p>--> float | 21.213</p>\n",
    "<p>--> str | \"Hello Python 101\"</p>\n",
    "<p>--> bool | True or False</p>"
   ]
  },
  {
   "cell_type": "code",
   "execution_count": 2,
   "metadata": {},
   "outputs": [
    {
     "name": "stdout",
     "output_type": "stream",
     "text": [
      "<class 'int'>\n",
      "<class 'float'>\n",
      "<class 'str'>\n",
      "<class 'bool'>\n",
      "\n",
      "\n",
      "2.0\n",
      "1\n",
      "1\n",
      "21.1\n",
      "True\n",
      "False\n",
      "3\n",
      "2.0\n",
      "2\n"
     ]
    }
   ],
   "source": [
    "# type() saber el tipo de dato\n",
    "\n",
    "print(type(11))\n",
    "print(type(21.213))\n",
    "print(type(\"Hello Python 101\"))\n",
    "print(type(True))\n",
    "\n",
    "print(\"\\n\") # Salto de linea\n",
    "\n",
    "print(float(2))\n",
    "print(int(1.1))\n",
    "print(int(\"1\"))\n",
    "print(str(21.1))\n",
    "# print(int(\"A\")) invalid literal for int() with base 10: 'A'\n",
    "print(bool(1))\n",
    "print(bool(0))\n",
    "print(int(3.99)) #No aproxima a mayor\n",
    "\n",
    "print(6/3)\n",
    "print(6//3)\n"
   ]
  },
  {
   "cell_type": "markdown",
   "metadata": {},
   "source": [
    "<h2> Expresiones y Variables </h2>\n",
    "\n",
    "<p>--> Suma: + </p>\n",
    "<p>--> Resta: - </p>\n",
    "<p>--> Multiplicación: * </p>\n",
    "<p>--> División: / </p>\n",
    "<p>--> Division entera : // </p>\n",
    "<p>--> Residuo: % </p>\n",
    "<p>--> Igualdad: == </p>\n",
    "<p>--> Diferente: != </p>\n",
    "<p>--> Elevado: ** </p>"
   ]
  },
  {
   "cell_type": "code",
   "execution_count": 16,
   "metadata": {},
   "outputs": [
    {
     "name": "stdout",
     "output_type": "stream",
     "text": [
      "0\n",
      "0\n",
      "False\n",
      "True\n",
      "12\n",
      "\n",
      "10\n",
      "\n",
      "2.0\n",
      "\n",
      "16\n"
     ]
    }
   ],
   "source": [
    "\n",
    "print(6//7)\n",
    "print(6%2)\n",
    "print(0==1)\n",
    "print(0!=1)\n",
    "\n",
    "\n",
    "variable = 12\n",
    "\n",
    "print(variable)\n",
    "\n",
    "\n",
    "x = 10\n",
    "\n",
    "print(f\"\\n{x}\")\n",
    "\n",
    "x = 10/5\n",
    "\n",
    "print(f\"\\n{x}\\n\")\n",
    "\n",
    "print(2**4)\n",
    "\n"
   ]
  },
  {
   "cell_type": "markdown",
   "metadata": {},
   "source": [
    "<h2>Operaciones con cadenas</h2>"
   ]
  },
  {
   "cell_type": "code",
   "execution_count": null,
   "metadata": {},
   "outputs": [],
   "source": []
  }
 ],
 "metadata": {
  "kernelspec": {
   "display_name": "base",
   "language": "python",
   "name": "python3"
  },
  "language_info": {
   "codemirror_mode": {
    "name": "ipython",
    "version": 3
   },
   "file_extension": ".py",
   "mimetype": "text/x-python",
   "name": "python",
   "nbconvert_exporter": "python",
   "pygments_lexer": "ipython3",
   "version": "3.12.4"
  }
 },
 "nbformat": 4,
 "nbformat_minor": 2
}
