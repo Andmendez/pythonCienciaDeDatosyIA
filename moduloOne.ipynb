{
 "cells": [
  {
   "cell_type": "code",
   "execution_count": 9,
   "metadata": {},
   "outputs": [
    {
     "name": "stdout",
     "output_type": "stream",
     "text": [
      "Hello World\n"
     ]
    }
   ],
   "source": [
    "print(\"Hello World\")\n",
    "# Check the Python Version\n",
    "import sys\n",
    "print(sys.version)\n"
   ]
  },
  {
   "cell_type": "markdown",
   "metadata": {},
   "source": [
    "<h2 class=\"color\">Tipos de datos</h2>\n",
    "\n",
    "<p>--> int | 11</p>\n",
    "<p>--> float | 21.213</p>\n",
    "<p>--> str | \"Hello Python 101\"</p>\n",
    "<p>--> bool | True or False</p>"
   ]
  },
  {
   "cell_type": "code",
   "execution_count": 2,
   "metadata": {},
   "outputs": [
    {
     "name": "stdout",
     "output_type": "stream",
     "text": [
      "<class 'int'>\n",
      "<class 'float'>\n",
      "<class 'str'>\n",
      "<class 'bool'>\n",
      "\n",
      "\n",
      "2.0\n",
      "1\n",
      "1\n",
      "21.1\n",
      "True\n",
      "False\n",
      "3\n",
      "2.0\n",
      "2\n"
     ]
    }
   ],
   "source": [
    "# type() saber el tipo de dato\n",
    "\n",
    "print(type(11))\n",
    "print(type(21.213))\n",
    "print(type(\"Hello Python 101\"))\n",
    "print(type(True))\n",
    "\n",
    "print(\"\\n\") # Salto de linea\n",
    "\n",
    "print(float(2))\n",
    "print(int(1.1))\n",
    "print(int(\"1\"))\n",
    "print(str(21.1))\n",
    "# print(int(\"A\")) invalid literal for int() with base 10: 'A'\n",
    "print(bool(1))\n",
    "print(bool(0))\n",
    "print(int(3.99)) #No aproxima a mayor\n",
    "\n",
    "print(6/3)\n",
    "print(6//3)\n"
   ]
  },
  {
   "cell_type": "markdown",
   "metadata": {},
   "source": [
    "<h2> Expresiones y Variables </h2>\n",
    "\n",
    "<p>--> Suma: + </p>\n",
    "<p>--> Resta: - </p>\n",
    "<p>--> Multiplicación: * </p>\n",
    "<p>--> División: / </p>\n",
    "<p>--> Division entera : // </p>\n",
    "<p>--> Residuo: % </p>\n",
    "<p>--> Igualdad: == </p>\n",
    "<p>--> Diferente: != </p>\n",
    "<p>--> Elevado: ** </p>"
   ]
  },
  {
   "cell_type": "code",
   "execution_count": 16,
   "metadata": {},
   "outputs": [
    {
     "name": "stdout",
     "output_type": "stream",
     "text": [
      "0\n",
      "0\n",
      "False\n",
      "True\n",
      "12\n",
      "\n",
      "10\n",
      "\n",
      "2.0\n",
      "\n",
      "16\n"
     ]
    }
   ],
   "source": [
    "\n",
    "print(6//7)\n",
    "print(6%2)\n",
    "print(0==1)\n",
    "print(0!=1)\n",
    "\n",
    "\n",
    "variable = 12\n",
    "\n",
    "print(variable)\n",
    "\n",
    "\n",
    "x = 10\n",
    "\n",
    "print(f\"\\n{x}\")\n",
    "\n",
    "x = 10/5\n",
    "\n",
    "print(f\"\\n{x}\\n\")\n",
    "\n",
    "print(2**4)\n",
    "\n"
   ]
  },
  {
   "cell_type": "markdown",
   "metadata": {},
   "source": [
    "<h2>Operaciones con cadenas</h2>\n",
    "\n",
    "<p>J|u|a|n L|u|i|s</p>\n",
    "<p>0|1|2|3|4|5|6|7|8</p>\n",
    "<p>-9|-8|-7|-6|-5|-4|-3|-2|-1</p>\n",
    "<p>len(): Indica el largo de la variable o texto que se le de</n>\n",
    "<p>\\n: linea nueva o un enter</p>\n",
    "<p>\\t: tabulador</p>\n",
    "<p>\\\\: para ver un slash</p>\n",
    "<p>.upper(): Mayuscula</p>\n",
    "<p>.lower(): Minuscula</p>\n",
    "<p>.replace(): Reemplazar</p>\n",
    "<p>.find(): Da la posicion donde se ve esa letra, si no se encuentra dicha letra o caracter arroja -1</p>\n",
    "<p>.format(): agregar variables</p>\n",
    "<p>f-strings: agregar variables</p>\n",
    "<p>%Operator: agregar variables</p>\n",
    "<p>Regular string: \",\" agregar variables</p>\n",
    "<p>Raw string: \"r\" no reconoce la \\n</r>"
   ]
  },
  {
   "cell_type": "code",
   "execution_count": 48,
   "metadata": {},
   "outputs": [
    {
     "name": "stdout",
     "output_type": "stream",
     "text": [
      "Juan Luis\n",
      "n\n",
      "J\n",
      "Juan\n",
      "Luis\n",
      "\n",
      "\n",
      "Ja us\n",
      "Ja u\n",
      "\n",
      "\n",
      "9\n",
      "\n",
      "\n",
      "Juan Luis love Python\n",
      "\n",
      "\n",
      "Juan LuisJuan LuisJuan Luis\n",
      "JUAN LUIS\n",
      "juan luis\n",
      "Juan Carlos\n",
      "7\n",
      "-1\n"
     ]
    }
   ],
   "source": [
    "name = \"Juan Luis\"\n",
    "\n",
    "print(name)\n",
    "print(name[3])\n",
    "print(name[-9])\n",
    "print(name[0:4]) #Imprime desde la variable n hasta n2-1 \"n1:n2-1\"\n",
    "print(name[5:9])\n",
    "print(\"\\n\")\n",
    "print(name[::2]) #Imprime desde la posicion 0 y los divisibles entre 2\n",
    "print(name[0:7:2]) #Imprime desde 0 hasta 7 los divisible entre 2\n",
    "print(\"\\n\")\n",
    "print(len(name))\n",
    "print(\"\\n\")\n",
    "print(name + \" love Python\")\n",
    "print(\"\\n\")\n",
    "print(name*3)\n",
    "print(name.upper())\n",
    "print(name.lower())\n",
    "print(name.replace(\"Luis\",\"Carlos\"))\n",
    "print(name.find(\"is\"))\n",
    "print(name.find(\"@\"))"
   ]
  },
  {
   "cell_type": "code",
   "execution_count": 53,
   "metadata": {},
   "outputs": [
    {
     "name": "stdout",
     "output_type": "stream",
     "text": [
      "My name is John and I am 50 years old.\n",
      "\n",
      "\n",
      "My name is John and I am 50 years old.\n",
      "\\n\n",
      "My name is John and I am 50 years old.\n",
      "My name is John and I am 50 years old.\n"
     ]
    }
   ],
   "source": [
    "name = \"John\"\n",
    "age = 50\n",
    "print(f\"My name is {name} and I am {age} years old.\")\n",
    "print(\"\\n\")\n",
    "print(\"My name is {} and I am {} years old.\".format(name, age))\n",
    "print(r\"\\n\")\n",
    "print(\"My name is %s and I am %d years old.\" % (name, age))\n",
    "print(\"My name is\",name,\"and I am\",age,\"years old.\")"
   ]
  },
  {
   "cell_type": "markdown",
   "metadata": {},
   "source": [
    "<h4>RegEx</h4>\n",
    "\n",
    "<p>re.search(): Ayuda a buscar una palabra en un texto</p>"
   ]
  },
  {
   "cell_type": "code",
   "execution_count": 71,
   "metadata": {},
   "outputs": [
    {
     "name": "stdout",
     "output_type": "stream",
     "text": [
      "Match found!\n"
     ]
    }
   ],
   "source": [
    "import re\n",
    "\n",
    "s1 = \"Michael Jackson is the best\"\n",
    "\n",
    "# Definir el patrón a buscar\n",
    "pattern = \"Jackson\"\n",
    "\n",
    "# Utilice la función search() para buscar el patrón en la cadena\n",
    "result = re.search(pattern, s1)\n",
    "\n",
    "# Comprobar si se encontró una coincidencia\n",
    "if result:\n",
    "    print(\"Match found!\")\n",
    "else:\n",
    "    print(\"Match not found.\")\n"
   ]
  },
  {
   "cell_type": "code",
   "execution_count": 61,
   "metadata": {},
   "outputs": [
    {
     "name": "stdout",
     "output_type": "stream",
     "text": [
      "Phone number found: 123456789\n"
     ]
    }
   ],
   "source": [
    "pattern = r\"\\d\\d\\d\\d\\d\\d\\d\\d\\d\\d\"  # Coincide con diez dígitos consecutivos\n",
    "text = \"My Phone number is 1234567890\"\n",
    "match = re.search(pattern, text)\n",
    "\n",
    "if match:\n",
    "    print(\"Phone number found:\", match.group())\n",
    "else:\n",
    "    print(\"No match\")"
   ]
  },
  {
   "cell_type": "code",
   "execution_count": 63,
   "metadata": {},
   "outputs": [
    {
     "name": "stdout",
     "output_type": "stream",
     "text": [
      "Matches: [',', ' ', '!']\n"
     ]
    }
   ],
   "source": [
    "pattern = r\"\\W\"  # Coincide con cualquier carácter que no sea una palabra\n",
    "text = \"Hello, world!\"\n",
    "matches = re.findall(pattern, text)\n",
    "\n",
    "print(\"Matches:\", matches)\n",
    "#Nos arroja la primera , el espacion y el !"
   ]
  },
  {
   "cell_type": "code",
   "execution_count": 5,
   "metadata": {},
   "outputs": [
    {
     "name": "stdout",
     "output_type": "stream",
     "text": [
      "['as', 'as']\n"
     ]
    }
   ],
   "source": [
    "s2 = \"Michael Jackson was a singer and known as the 'King of Pop'\"\n",
    "\n",
    "\n",
    "# Utilice la función findall() para encontrar todas las apariciones del \"as\" en la cadena\n",
    "result = re.findall(\"as\", s2)\n",
    "\n",
    "# Imprime la lista de palabras coincidentes\n",
    "print(result)"
   ]
  },
  {
   "cell_type": "code",
   "execution_count": 6,
   "metadata": {},
   "outputs": [
    {
     "name": "stdout",
     "output_type": "stream",
     "text": [
      "['Michael', 'Jackson', 'was', 'a', 'singer', 'and', 'known', 'as', 'the', \"'King\", 'of', \"Pop'\"]\n"
     ]
    }
   ],
   "source": [
    "import re\n",
    "# Utilice la función de división para dividir la cadena por \"\\s\"\n",
    "split_array = re.split(r\"\\s\", s2)\n",
    "\n",
    "# split_array contiene todas las subcadenas, divididas por caracteres de espacio en blanco.\n",
    "print(split_array) "
   ]
  },
  {
   "cell_type": "code",
   "execution_count": 75,
   "metadata": {},
   "outputs": [
    {
     "name": "stdout",
     "output_type": "stream",
     "text": [
      "Michael Jackson was a singer and known as the 'legend'\n"
     ]
    }
   ],
   "source": [
    "# Definir el patrón de expresión regular a buscar\n",
    "pattern = r\"King of Pop\"\n",
    "\n",
    "# Definir la cadena de reemplazo\n",
    "replacement = \"legend\"\n",
    "\n",
    "# Utilice la subfunción para reemplazar el patrón con la cadena de reemplazo\n",
    "new_string = re.sub(pattern, replacement, s2, flags=re.IGNORECASE)\n",
    "\n",
    "# new_string contiene la cadena original con el patrón reemplazado por la cadena de reemplazo\n",
    "print(new_string) "
   ]
  },
  {
   "cell_type": "code",
   "execution_count": null,
   "metadata": {},
   "outputs": [],
   "source": []
  }
 ],
 "metadata": {
  "kernelspec": {
   "display_name": "base",
   "language": "python",
   "name": "python3"
  },
  "language_info": {
   "codemirror_mode": {
    "name": "ipython",
    "version": 3
   },
   "file_extension": ".py",
   "mimetype": "text/x-python",
   "name": "python",
   "nbconvert_exporter": "python",
   "pygments_lexer": "ipython3",
   "version": "3.12.4"
  }
 },
 "nbformat": 4,
 "nbformat_minor": 2
}
