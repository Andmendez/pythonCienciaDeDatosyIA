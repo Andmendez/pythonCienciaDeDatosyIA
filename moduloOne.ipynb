{
 "cells": [
  {
   "cell_type": "code",
   "execution_count": 9,
   "metadata": {},
   "outputs": [
    {
     "name": "stdout",
     "output_type": "stream",
     "text": [
      "Hello World\n"
     ]
    }
   ],
   "source": [
    "print(\"Hello World\")\n",
    "# Check the Python Version\n",
    "import sys\n",
    "print(sys.version)\n"
   ]
  },
  {
   "cell_type": "markdown",
   "metadata": {},
   "source": [
    "<h2 class=\"color\">Tipos de datos</h2>\n",
    "\n",
    "<p>--> int | 11</p>\n",
    "<p>--> float | 21.213</p>\n",
    "<p>--> str | \"Hello Python 101\"</p>\n",
    "<p>--> bool | True or False</p>"
   ]
  },
  {
   "cell_type": "code",
   "execution_count": 25,
   "metadata": {},
   "outputs": [
    {
     "name": "stdout",
     "output_type": "stream",
     "text": [
      "<class 'int'>\n",
      "<class 'float'>\n",
      "<class 'str'>\n",
      "<class 'bool'>\n",
      "\n",
      "\n",
      "2.0\n",
      "1\n",
      "1\n",
      "21.1\n"
     ]
    }
   ],
   "source": [
    "# type() saber el tipo de dato\n",
    "\n",
    "print(type(11))\n",
    "print(type(21.213))\n",
    "print(type(\"Hello Python 101\"))\n",
    "print(type(True))\n",
    "\n",
    "print(\"\\n\") # Salto de linea\n",
    "\n",
    "print(float(2))\n",
    "print(int(1.1))\n",
    "print(int(\"1\"))\n",
    "print(str(21.1))\n",
    "# print(int(\"A\")) invalid literal for int() with base 10: 'A'\n"
   ]
  },
  {
   "cell_type": "code",
   "execution_count": null,
   "metadata": {},
   "outputs": [],
   "source": [
    "\n"
   ]
  }
 ],
 "metadata": {
  "kernelspec": {
   "display_name": "base",
   "language": "python",
   "name": "python3"
  },
  "language_info": {
   "codemirror_mode": {
    "name": "ipython",
    "version": 3
   },
   "file_extension": ".py",
   "mimetype": "text/x-python",
   "name": "python",
   "nbconvert_exporter": "python",
   "pygments_lexer": "ipython3",
   "version": "3.12.4"
  }
 },
 "nbformat": 4,
 "nbformat_minor": 2
}
